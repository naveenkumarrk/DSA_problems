{
 "cells": [
  {
   "cell_type": "code",
   "execution_count": 2,
   "metadata": {},
   "outputs": [
    {
     "name": "stdout",
     "output_type": "stream",
     "text": [
      "This is an example for the puyton I/O file system \n"
     ]
    }
   ],
   "source": [
    "f = open(\"this.txt\", \"r\")\n",
    "text = f.read()\n",
    "print(text)\n",
    "f.close()"
   ]
  },
  {
   "cell_type": "code",
   "execution_count": 22,
   "metadata": {},
   "outputs": [
    {
     "name": "stdout",
     "output_type": "stream",
     "text": [
      "yes\n"
     ]
    }
   ],
   "source": [
    "with open(\"this.txt\", 'r') as f:\n",
    "    if \"Twinkle\" in f.read():\n",
    "        print(\"yes\")\n",
    "    else:\n",
    "        print(\"no\")"
   ]
  },
  {
   "cell_type": "code",
   "execution_count": 13,
   "metadata": {},
   "outputs": [
    {
     "data": {
      "text/plain": [
       "'a a b c'"
      ]
     },
     "execution_count": 13,
     "metadata": {},
     "output_type": "execute_result"
    }
   ],
   "source": [
    "# dictionary = [\"cat\",\"bat\",\"rat\"]\n",
    "# sentence = \"the cattle was rattled by the battery\"\n",
    "dictionary = [\"a\",\"b\",\"c\"]\n",
    "sentence = \"aadsfasf absbs bbab cadsfafs\"\n",
    "\n",
    "sen = sentence.split(\" \")\n",
    "\n",
    "for word in dictionary:\n",
    "    i = 0\n",
    "    while i < len(sen):\n",
    "        if sen[i][0:len(word)] == word:\n",
    "            sen[i] = word\n",
    "        i+=1\n",
    "\" \".join(sen)"
   ]
  },
  {
   "cell_type": "code",
   "execution_count": 29,
   "metadata": {},
   "outputs": [
    {
     "name": "stdout",
     "output_type": "stream",
     "text": [
      "[2, 2, 2, 1, 4, 3, 3, 9, 6, 7, 19]\n"
     ]
    }
   ],
   "source": [
    "from collections import defaultdict\n",
    "\n",
    "arr1 = [2,3,1,3,2,4,6,7,9,2,19]\n",
    "arr2 = [2,1,4,3,9,6]\n",
    "\n",
    "arr2_set = set(arr2)\n",
    "arr1_count =  defaultdict(int)\n",
    "end = []\n",
    "\n",
    "for n in arr1:\n",
    "    if n not in arr2_set:\n",
    "        end.append(n)\n",
    "    arr1_count[n]+=1\n",
    "end.sort()\n",
    "\n",
    "res = []\n",
    "for n in arr2:\n",
    "    for _ in range(arr1_count[n]):\n",
    "        res.append(n)\n",
    "print(res+end)\n",
    "\n",
    "# Output: [2,2,2,1,4,3,3,9,6,7,19]\n"
   ]
  },
  {
   "cell_type": "code",
   "execution_count": 6,
   "metadata": {},
   "outputs": [
    {
     "name": "stdout",
     "output_type": "stream",
     "text": [
      "the score is : 8\n"
     ]
    }
   ],
   "source": [
    "import random\n",
    "def game():\n",
    "    score = random.randint(1,100)\n",
    "    print(\"the score is :\", score)\n",
    "    return score\n",
    "\n",
    "score = game()\n",
    "\n",
    "with open(\"this.txt\",\"r\") as f:\n",
    "    highScore = int(f.read())\n",
    "\n",
    "if score > highScore:\n",
    "        with open(\"this.txt\", \"w\") as f:\n",
    "             f.write(str(score))"
   ]
  },
  {
   "cell_type": "code",
   "execution_count": 8,
   "metadata": {},
   "outputs": [],
   "source": [
    "for i in range(2,21):\n",
    "    table = ''\n",
    "    for j in range(1,11):\n",
    "        table+= f\"{i} X {j} = {i*j} \\n\"\n",
    "    with open(f\"tables/{i}.txt\", \"w\") as f:\n",
    "        f.write(table)"
   ]
  },
  {
   "cell_type": "code",
   "execution_count": 31,
   "metadata": {},
   "outputs": [
    {
     "name": "stdout",
     "output_type": "stream",
     "text": [
      "FUCK is the thing in it FUCK\n"
     ]
    }
   ],
   "source": [
    "textFile ='this.txt'\n",
    "with open(textFile,\"r\") as f:\n",
    "    text = f.readline()\n",
    "if \"Donkey\" in text:\n",
    "    text = text.replace(\"Donkey\", \"FUCK\")\n",
    "\n",
    "with open(textFile, \"w\") as f:\n",
    "    f.write(text)\n",
    "\n",
    "# a = text.split(\" \")\n",
    "# print(a)\n",
    "print(text)\n"
   ]
  },
  {
   "cell_type": "code",
   "execution_count": 33,
   "metadata": {},
   "outputs": [
    {
     "data": {
      "text/plain": [
       "'i wanna /*cenosr*/ this government and make it /*cenosr*/ this apple juice made by a /*cenosr*/ guy who i wanna/*cenosr*/'"
      ]
     },
     "execution_count": 33,
     "metadata": {},
     "output_type": "execute_result"
    }
   ],
   "source": [
    "def censor(text_file, censor_words):\n",
    "    with open(text_file, \"r\") as f:\n",
    "        text = f.read().lower()\n",
    "    for i in censor_words:\n",
    "        if i.lower() in text:\n",
    "            text = text.replace(i, \"/*cenosr*/\")\n",
    "    with open(text_file, \"w\") as f:\n",
    "        f.write(text)\n",
    "            \n",
    "    return  text\n",
    "\n",
    "text_file = \"this.txt\"\n",
    "cens = [\"fuck\", \"suck\",\" kill\", \"mediocre\"]\n",
    "\n",
    "censor(text_file, cens)\n"
   ]
  },
  {
   "cell_type": "code",
   "execution_count": 2,
   "metadata": {},
   "outputs": [
    {
     "data": {
      "text/plain": [
       "[0, 0, 1, 1, 2, 2]"
      ]
     },
     "execution_count": 2,
     "metadata": {},
     "output_type": "execute_result"
    }
   ],
   "source": [
    "nums = [2,0,2,1,1,0]\n",
    "\n",
    "def sort_colurs(nums):\n",
    "    low = 0 \n",
    "    mid = 0\n",
    "    high = len(nums) - 1\n",
    "\n",
    "    while mid <= high:\n",
    "        if nums[mid] == 0:\n",
    "            nums[mid],nums[low] = nums[low],nums[mid]\n",
    "            low+=1\n",
    "            mid+=1\n",
    "        elif nums[mid] == 1:\n",
    "            mid+=1\n",
    "        else:\n",
    "            nums[mid],nums[high] = nums[high],nums[mid]\n",
    "            high-=1\n",
    "    return nums\n",
    "\n",
    "sort_colurs(nums)\n",
    "\n",
    "            "
   ]
  },
  {
   "cell_type": "code",
   "execution_count": 23,
   "metadata": {},
   "outputs": [
    {
     "name": "stdout",
     "output_type": "stream",
     "text": [
      "4\n"
     ]
    }
   ],
   "source": [
    "to_find = \"python\"\n",
    "l = []\n",
    "with open(\"this.txt\",\"r\") as f:\n",
    "    i = 0\n",
    "    while True:\n",
    "        text = f.readline()\n",
    "        if not text:\n",
    "            break\n",
    "        if to_find.lower() in text.lower():\n",
    "            l.append(text)\n",
    "        i+=1\n",
    "print(i)"
   ]
  },
  {
   "cell_type": "code",
   "execution_count": 14,
   "metadata": {},
   "outputs": [
    {
     "name": "stdout",
     "output_type": "stream",
     "text": [
      "a\n"
     ]
    }
   ],
   "source": [
    "nums = ['a','b', 2,5,'t']\n",
    "if 'a' in nums:\n",
    "    print('a')"
   ]
  },
  {
   "cell_type": "code",
   "execution_count": 25,
   "metadata": {},
   "outputs": [],
   "source": [
    "with open(\"this.txt\", \"r\") as f:\n",
    "    text = f.read()\n",
    "\n",
    "with open(\"this_2.txt\",\"w\") as f:\n",
    "    f.write(text)"
   ]
  },
  {
   "cell_type": "code",
   "execution_count": 29,
   "metadata": {},
   "outputs": [
    {
     "name": "stdout",
     "output_type": "stream",
     "text": [
      "yes\n"
     ]
    }
   ],
   "source": [
    "with open(\"this.txt\", \"r\") as f:\n",
    "    text = f.read()\n",
    "\n",
    "with open(\"this_2.txt\", \"r\") as f:\n",
    "    text_2 = f.read()\n",
    "\n",
    "if text == text_2:\n",
    "    print(\"yes\")\n",
    "else:\n",
    "    print(\"nie\")"
   ]
  },
  {
   "cell_type": "code",
   "execution_count": 30,
   "metadata": {},
   "outputs": [],
   "source": [
    "with open(\"this.txt\", \"r\") as f:\n",
    "    text = f.read()\n",
    "\n",
    "text =\"\"\n",
    "\n",
    "with open(\"this.txt\", \"w\") as f:\n",
    "    f.write(text)\n"
   ]
  },
  {
   "cell_type": "code",
   "execution_count": 34,
   "metadata": {},
   "outputs": [],
   "source": [
    "import os \n",
    "with open(\"this.txt\", \"r\") as f:\n",
    "    text = f.read()\n",
    "\n",
    "with open(\"two.txt\", \"w\") as f:\n",
    "    f.write(text)\n",
    "\n",
    "\n",
    "os.remove(\"this.txt\")\n"
   ]
  },
  {
   "cell_type": "code",
   "execution_count": 36,
   "metadata": {},
   "outputs": [
    {
     "name": "stdout",
     "output_type": "stream",
     "text": [
      "54\n"
     ]
    }
   ],
   "source": [
    "import random\n",
    "\n",
    "guess = random.randint(1,100)\n",
    "print(guess)"
   ]
  },
  {
   "cell_type": "code",
   "execution_count": 53,
   "metadata": {},
   "outputs": [
    {
     "name": "stdout",
     "output_type": "stream",
     "text": [
      "priya\n",
      "ramesh\n",
      "23\n",
      "the name is :  ramesh\n",
      "have a good day\n"
     ]
    },
    {
     "data": {
      "text/plain": [
       "3"
      ]
     },
     "execution_count": 53,
     "metadata": {},
     "output_type": "execute_result"
    }
   ],
   "source": [
    "class Employee:\n",
    "\n",
    "    def __init__(self, name, marks):\n",
    "        self.name = name\n",
    "        self.marks = marks\n",
    "\n",
    "    def printObj(fuck):\n",
    "        print(\"the name is : \", fuck.name)\n",
    "\n",
    "    @staticmethod\n",
    "    def greet():\n",
    "        print(\"have a good day\")\n",
    "            \n",
    "\n",
    "naveen_2 = Employee(\"riya\" ,3)\n",
    "naveen = Employee(\"priya\" ,23)\n",
    "print(naveen.name) \n",
    "naveen.name = \"ramesh\"               \n",
    "print(naveen.name)\n",
    "print(naveen.marks)\n",
    "# naveen.printObj()\n",
    "Employee.printObj(naveen)\n",
    "naveen.greet()\n",
    "\n",
    "naveen_2.marks"
   ]
  },
  {
   "cell_type": "code",
   "execution_count": 57,
   "metadata": {},
   "outputs": [
    {
     "name": "stdout",
     "output_type": "stream",
     "text": [
      "The name is pranav. I am 23 years old.\n",
      "I am based of amster dam and Im works as a SDE I at Microsoft\n",
      "\n",
      "The name is Sundar pichai. I am 25 years old.\n",
      "I am based of Erode and Im works as a SDE II at Microsoft\n",
      "\n",
      "The name is Bheem. I am 20 years old.\n",
      "I am based of Dolakpur and Im works as a Mlops developer at Microsoft\n"
     ]
    }
   ],
   "source": [
    "class Programmers:\n",
    "    def __init__(self, name, age, location, role):\n",
    "        self.name = name\n",
    "        self.age = age\n",
    "        self.role = role\n",
    "        self.location = location\n",
    "        \n",
    "\n",
    "    def PritntObj(self):\n",
    "        print(f\"The name is {self.name}. I am {self.age} years old.\\nI am based of {self.location} and Im works as a {self.role} at Microsoft\")\n",
    "\n",
    "prog1 = Programmers(\"pranav\", 23, \"amster dam\", \"SDE I\")\n",
    "prog2 = Programmers(\"Sundar pichai\", 25, \"Erode\", \"SDE II\")\n",
    "prog3 = Programmers(\"Bheem\", 20, \"Dolakpur\", \"Mlops developer\")\n",
    "\n",
    "prog1.PritntObj()\n",
    "print()\n",
    "prog2.PritntObj()\n",
    "print()\n",
    "prog3.PritntObj()"
   ]
  },
  {
   "cell_type": "code",
   "execution_count": 73,
   "metadata": {},
   "outputs": [
    {
     "name": "stdout",
     "output_type": "stream",
     "text": [
      "Hello mf!\n",
      "9\n",
      "The square is:  81\n",
      "The cube is:  729\n",
      "The square Root is:  3.0\n",
      "\n",
      "Hello mf!\n",
      "2\n",
      "The square is:  4\n",
      "The cube is:  8\n",
      "The square Root is:  1.4142135623730951\n"
     ]
    }
   ],
   "source": [
    "import math\n",
    "class Calculator:\n",
    "    def __init__(self, num):\n",
    "        self.num = num\n",
    "\n",
    "    @staticmethod # to print or write a function without passing anything \n",
    "    def greet():\n",
    "        print(\"Hello mf!\")\n",
    "\n",
    "    def square(self):\n",
    "        print(\"The square is: \", self.num * self.num)\n",
    "    \n",
    "    def cube(self):\n",
    "        print(\"The cube is: \", self.num * self.num * self.num)\n",
    "    \n",
    "    def squareRoot(self):\n",
    "        print(\"The square Root is: \",math.sqrt(self.num))\n",
    "\n",
    "nine = Calculator(9)\n",
    "nine.greet()\n",
    "print(nine.num)\n",
    "nine.square()\n",
    "nine.cube()\n",
    "nine.squareRoot()\n",
    "print()\n",
    "two = Calculator(2)\n",
    "nine.greet()\n",
    "print(two.num)\n",
    "two.square()\n",
    "two.cube()\n",
    "two.squareRoot()"
   ]
  },
  {
   "cell_type": "code",
   "execution_count": 71,
   "metadata": {},
   "outputs": [
    {
     "name": "stdout",
     "output_type": "stream",
     "text": [
      "123\n",
      "0\n",
      "123\n"
     ]
    }
   ],
   "source": [
    "class ClassAttribute:\n",
    "    a = 123\n",
    "\n",
    "obj = ClassAttribute()\n",
    "obj_2 = ClassAttribute()\n",
    "print(obj.a)\n",
    "obj.a = 0\n",
    "print(obj.a)\n",
    "print(obj_2.a)\n"
   ]
  },
  {
   "cell_type": "code",
   "execution_count": 82,
   "metadata": {},
   "outputs": [
    {
     "name": "stdout",
     "output_type": "stream",
     "text": [
      "Welcome to Indian Railways!\n",
      "Hello Bob\n",
      "There are 100 seats available\n",
      "14 has been Booked for your ID, Bob\n",
      "Your total fare for 14 seats would be 1680\n",
      "\n",
      "Hello Ram\n",
      "There are 86 seats available\n",
      "12 has been Booked for your ID, Ram\n",
      "Your total fare for 12 seats would be 1440\n",
      "\n",
      "Thank You, Visit us again!\n"
     ]
    }
   ],
   "source": [
    "class Train:\n",
    "\n",
    "    totalSeats = 100 \n",
    "    perSeat = 120\n",
    "\n",
    "    def __init__(self, name):\n",
    "        self.name = name\n",
    "\n",
    "    @staticmethod\n",
    "    def greet():\n",
    "        print(\"Welcome to Indian Railways!\")\n",
    "    \n",
    "    def getStatus(self):\n",
    "        print(f\"Hello {self.name}\")\n",
    "        print(f\"There are {Train.totalSeats} seats available\")\n",
    "        self.seats = int(input(f\"There are {self.totalSeats} available\\nHow many seats you want to book: \"))\n",
    "        Train.totalSeats -= self.seats \n",
    "        print(f\"{self.seats} has been Booked for your ID, {self.name}\")\n",
    "\n",
    "    def getFare(self):\n",
    "        self.totalFare = self.seats * self.perSeat\n",
    "        print(f\"Your total fare for {self.seats} seats would be {self.totalFare}\")\n",
    "\n",
    "    @staticmethod\n",
    "    def end():\n",
    "        print(\"Thank You, Visit us again!\")\n",
    "Train.greet()\n",
    "\n",
    "obj = Train(\"Bob\")\n",
    "obj.getStatus()\n",
    "obj.getFare()\n",
    "print()\n",
    "\n",
    "obj_2 = Train(\"Ram\")\n",
    "obj_2.getStatus()\n",
    "obj_2.getFare()\n",
    "print()\n",
    "\n",
    "Train.end()"
   ]
  },
  {
   "cell_type": "code",
   "execution_count": 30,
   "metadata": {},
   "outputs": [
    {
     "name": "stdout",
     "output_type": "stream",
     "text": [
      "Child 1\n",
      "Parent\n",
      "Child 2\n",
      "445\n",
      "75\n",
      "34\n"
     ]
    }
   ],
   "source": [
    "class Employee:\n",
    "    a = 34\n",
    "class Salary:\n",
    "    b = 12\n",
    "\n",
    "pr = Salary()\n",
    "em = Employee()\n",
    "# print(pr.a)\n",
    "# print(em.a)\n",
    "# print(pr.b)\n",
    "\n",
    "\n",
    "# multiple inhertance\n",
    "class Role:\n",
    "    role  = \"SDE I\"\n",
    "\n",
    "class Programmer(Employee, Salary,Role):\n",
    "    name = \"athul\"\n",
    "\n",
    "coder = Programmer()\n",
    "# print(coder.a)\n",
    "# print(coder.b)\n",
    "# print(coder.role)\n",
    "# print(coder.name)\n",
    "\n",
    "\n",
    "# Multi Level inheritance\n",
    "\n",
    "class Parent:\n",
    "    p1 = 445\n",
    "    \n",
    "    def __init__(self) -> None:\n",
    "        print(\"Parent\")\n",
    "\n",
    "class Child1(Parent):\n",
    "    c1 = 75\n",
    "    def __init__(self) -> None:\n",
    "        print(\"Child 1\")\n",
    "        super().__init__()\n",
    "\n",
    "class Child2(Child1):\n",
    "    c2  = 34\n",
    "    def __init__(self) -> None:\n",
    "        super().__init__()\n",
    "        print(\"Child 2\")\n",
    "\n",
    "# super()\n",
    "ch = Child2()\n",
    "print(ch.p1)\n",
    "print(ch.c1)\n",
    "print(ch.c2)\n"
   ]
  },
  {
   "cell_type": "code",
   "execution_count": 44,
   "metadata": {},
   "outputs": [
    {
     "name": "stdout",
     "output_type": "stream",
     "text": [
      "12\n",
      "445\n"
     ]
    }
   ],
   "source": [
    "#getter and setter methods\n",
    "\n",
    "class Employee:\n",
    "    a = 1\n",
    "    b = 4\n",
    "    c = 6\n",
    "\n",
    "    @classmethod\n",
    "    def clsMethod(cls, a, b, c):\n",
    "        cls.a = a\n",
    "        cls.b = b\n",
    "        cls.c = c\n",
    "\n",
    "    #makes the function asa defalut property or attribute\n",
    "    @property\n",
    "    def length(self):\n",
    "        return self.a\n",
    "    \n",
    "    @length.setter\n",
    "    def length(self, value):\n",
    "        self.a = value\n",
    "\n",
    "em = Employee()\n",
    "# print(Employee.a)\n",
    "# print(Employee.b)\n",
    "# print(Employee.c)\n",
    "Employee.clsMethod(12,54,67)\n",
    "# print(Employee.a)\n",
    "# print(Employee.b)\n",
    "# print(Employee.c)\n",
    "print(em.length)\n",
    "em.length = 445\n",
    "print(em.length)\n"
   ]
  },
  {
   "cell_type": "code",
   "execution_count": 59,
   "metadata": {},
   "outputs": [
    {
     "name": "stdout",
     "output_type": "stream",
     "text": [
      "44\n",
      "40\n",
      "naveen  kumar\n",
      "42\n"
     ]
    }
   ],
   "source": [
    "# dunder methods\n",
    "\n",
    "class Employee:\n",
    "\n",
    "    def __init__(self, a, name):\n",
    "        # self.name = name\n",
    "        # self.age = age\n",
    "        # self.a = a\n",
    "        self.a = a\n",
    "        self.name = name\n",
    "\n",
    "    def __add__(self, obj):\n",
    "        return self.a + obj.a\n",
    "    \n",
    "    def __sub__(self, obj):\n",
    "        return abs(self.a - obj.a)\n",
    "    \n",
    "    def __str__(self) -> str:\n",
    "        return self.name\n",
    "    \n",
    "    def __len__(self):\n",
    "        return self.a\n",
    "em = Employee(2, \"naveen\")\n",
    "em_2 = Employee(42, \" kumar\")\n",
    "print(em + em_2)\n",
    "print(em - em_2)\n",
    "print(em, em_2)\n",
    "print(len(em_2))"
   ]
  },
  {
   "cell_type": "code",
   "execution_count": 88,
   "metadata": {},
   "outputs": [
    {
     "name": "stdout",
     "output_type": "stream",
     "text": [
      "3i + 2j + 4k\n"
     ]
    }
   ],
   "source": [
    "class Vector2D:\n",
    "    def __init__(self, i, j):\n",
    "        self.i =i\n",
    "        self.j =j\n",
    "\n",
    "class Vector3D(Vector2D):\n",
    "    def __init__(self, i, j, k):\n",
    "        super().__init__(i, j)\n",
    "        self.k = k\n",
    "\n",
    "    def area(self):\n",
    "        return self.i * self.j * self.k \n",
    "\n",
    "    def __str__(self) -> str:\n",
    "        return f\"{self.i}i + {self.j}j + {self.k}k\"\n",
    "    \n",
    "    def __len__\n",
    "    \n",
    "\n",
    "vect2D = Vector2D(1,2) \n",
    "vect3D = Vector3D(3,2,4)\n",
    "\n",
    "vect3D.area()\n",
    "print(vect3D)"
   ]
  },
  {
   "cell_type": "code",
   "execution_count": 75,
   "metadata": {},
   "outputs": [
    {
     "data": {
      "text/plain": [
       "'tomy barks!'"
      ]
     },
     "execution_count": 75,
     "metadata": {},
     "output_type": "execute_result"
    }
   ],
   "source": [
    "class Animals:\n",
    "    def __init__(self, name):\n",
    "        self.name = name\n",
    "\n",
    "    def get_name(self):\n",
    "        return self.name\n",
    "    \n",
    "class Pets(Animals):\n",
    "    def __init__(self, name, owner):\n",
    "        super().__init__(name)\n",
    "        self.owner = owner\n",
    "\n",
    "    def get_owner(self):\n",
    "        return self.owner\n",
    "\n",
    "class Dog(Pets):\n",
    "    def __init__(self, name, owner, breed):\n",
    "        super().__init__(name, owner)\n",
    "        self.breed = breed\n",
    "\n",
    "    def get_breed(self):\n",
    "        return self.breed\n",
    "    \n",
    "    def barks(self):\n",
    "        return f\"{self.name} barks!\"\n",
    "\n",
    "og = Dog(\"tomy\", \"suraj\", \"rott\")\n",
    "og.get_name()\n",
    "og.get_owner()\n",
    "og.get_breed()\n",
    "og.barks()"
   ]
  },
  {
   "cell_type": "code",
   "execution_count": 79,
   "metadata": {},
   "outputs": [
    {
     "name": "stdout",
     "output_type": "stream",
     "text": [
      "11000.0\n",
      "10090.90909090909\n",
      "11100.0\n"
     ]
    }
   ],
   "source": [
    "class Employee:\n",
    "\n",
    "    def __init__(self, salary, increment):\n",
    "        self.salary = salary\n",
    "        self.increment = increment\n",
    "\n",
    "    @property\n",
    "    def SalaryAfterIncrement(self):\n",
    "        return self.salary * (1 + self.increment)\n",
    "    \n",
    "    @SalaryAfterIncrement.setter\n",
    "    def SalaryAfterIncrement(self, value):\n",
    "        self.salary = value / (1 + self.increment)\n",
    "\n",
    "# Example usage\n",
    "emp1 = Employee(10000, 0.1)\n",
    "print(emp1.SalaryAfterIncrement)  # Output: 11000.0\n",
    "\n",
    "# Setting a new SalaryAfterIncrement\n",
    "emp1.SalaryAfterIncrement = 11100\n",
    "print(emp1.salary)  # Output: 10090.90909090909\n",
    "print(emp1.SalaryAfterIncrement)  # Output: 11100.0\n"
   ]
  },
  {
   "cell_type": "code",
   "execution_count": 86,
   "metadata": {},
   "outputs": [
    {
     "name": "stdout",
     "output_type": "stream",
     "text": [
      "15 5\n"
     ]
    }
   ],
   "source": [
    "class Complex: \n",
    "    def __init__(self, a, b) -> None:\n",
    "        self.a = a\n",
    "        self.b = b\n",
    "\n",
    "    def __add__(self,obj):\n",
    "        return Complex(self.a + obj.a, self.b + obj.b)\n",
    "    \n",
    "num_1 = Complex(11,4)\n",
    "num_2 = Complex(4,1)\n",
    "num_3  = num_1 + num_2\n",
    "\n",
    "print(num_3.a, num_3.b)\n"
   ]
  },
  {
   "cell_type": "code",
   "execution_count": 97,
   "metadata": {},
   "outputs": [
    {
     "name": "stdout",
     "output_type": "stream",
     "text": [
      "[3, 9, 7]\n",
      "30\n",
      "3\n"
     ]
    }
   ],
   "source": [
    "class Vector:\n",
    "    def __init__(self, l1) -> None:\n",
    "        self.dim = len(l1)\n",
    "        self.data = l1\n",
    "\n",
    "    # vector addition\n",
    "    def __add__(self,obj):\n",
    "        myList = []\n",
    "        for i in range(len(obj.data)):\n",
    "            myList.append(self.data[i] + obj.data[i])\n",
    "        return Vector(myList)\n",
    "    \n",
    "    #do products\n",
    "    def __mul__(self,obj):\n",
    "        dot = 0\n",
    "        for i in range(len(obj.data)):\n",
    "            dot += self.data[i] * obj.data[i]\n",
    "        return dot\n",
    "    \n",
    "    def __len__(self):\n",
    "        return len(self.data)\n",
    "    \n",
    "v1 = Vector([2,3,5])\n",
    "v2 = Vector([1,6,2])\n",
    "v3 = v1+ v2\n",
    "v4 = v1 * v2\n",
    "print(v3.data)\n",
    "print(v4)\n",
    "print(len(v3))"
   ]
  },
  {
   "cell_type": "code",
   "execution_count": 101,
   "metadata": {},
   "outputs": [
    {
     "name": "stdout",
     "output_type": "stream",
     "text": [
      "3\n",
      "Try was Successfull\n"
     ]
    }
   ],
   "source": [
    "#exception Handling in python\n",
    "try:\n",
    "    a = int(input(\"Enter a number\"))\n",
    "    b = int(input(\"Enter a number\"))\n",
    "    c = a+b\n",
    "    print(c)\n",
    "\n",
    "except ValueError:\n",
    "    print(\"This is a Value Error\")\n",
    "\n",
    "except Exception as e:\n",
    "    print(e)\n",
    "else:\n",
    "    print(\"Try was Successfull\")\n",
    "    "
   ]
  },
  {
   "cell_type": "code",
   "execution_count": 124,
   "metadata": {},
   "outputs": [
    {
     "name": "stdout",
     "output_type": "stream",
     "text": [
      "main\n",
      "I will be always executed\n"
     ]
    },
    {
     "ename": "Exception",
     "evalue": "This number is out of bounds:(",
     "output_type": "error",
     "traceback": [
      "\u001b[1;31m---------------------------------------------------------------------------\u001b[0m",
      "\u001b[1;31mException\u001b[0m                                 Traceback (most recent call last)",
      "Cell \u001b[1;32mIn[124], line 19\u001b[0m\n\u001b[0;32m     17\u001b[0m \u001b[38;5;28;01mif\u001b[39;00m \u001b[38;5;18m__name__\u001b[39m \u001b[38;5;241m==\u001b[39m \u001b[38;5;124m\"\u001b[39m\u001b[38;5;124m__main__\u001b[39m\u001b[38;5;124m\"\u001b[39m:\n\u001b[0;32m     18\u001b[0m     \u001b[38;5;28mprint\u001b[39m(\u001b[38;5;124m\"\u001b[39m\u001b[38;5;124mmain\u001b[39m\u001b[38;5;124m\"\u001b[39m)\n\u001b[1;32m---> 19\u001b[0m     \u001b[43mfunc\u001b[49m\u001b[43m(\u001b[49m\u001b[43m)\u001b[49m\n\u001b[0;32m     21\u001b[0m \u001b[38;5;66;03m# dunder nmae and main are used to check whether the module is imported or is in the same file \u001b[39;00m\n\u001b[0;32m     22\u001b[0m \u001b[38;5;66;03m# if it is on the same file it will execute as it will show \"__main__\" in __name__, \u001b[39;00m\n\u001b[0;32m     23\u001b[0m \u001b[38;5;66;03m# As if it is imported, it will display the name of the file not hte main name\u001b[39;00m\n",
      "Cell \u001b[1;32mIn[124], line 6\u001b[0m, in \u001b[0;36mfunc\u001b[1;34m()\u001b[0m\n\u001b[0;32m      4\u001b[0m b \u001b[38;5;241m=\u001b[39m \u001b[38;5;28mint\u001b[39m(\u001b[38;5;28minput\u001b[39m(\u001b[38;5;124m\"\u001b[39m\u001b[38;5;124mEnter a number\u001b[39m\u001b[38;5;124m\"\u001b[39m))\n\u001b[0;32m      5\u001b[0m \u001b[38;5;28;01mif\u001b[39;00m b\u001b[38;5;241m>\u001b[39m\u001b[38;5;241m100\u001b[39m:\n\u001b[1;32m----> 6\u001b[0m     \u001b[38;5;28;01mraise\u001b[39;00m \u001b[38;5;167;01mException\u001b[39;00m(\u001b[38;5;124m\"\u001b[39m\u001b[38;5;124mThis number is out of bounds:(\u001b[39m\u001b[38;5;124m\"\u001b[39m)\n\u001b[0;32m      7\u001b[0m \u001b[38;5;28mprint\u001b[39m(a\u001b[38;5;241m/\u001b[39mb)\n\u001b[0;32m      8\u001b[0m \u001b[38;5;28;01mreturn\u001b[39;00m (a\u001b[38;5;241m/\u001b[39mb)\n",
      "\u001b[1;31mException\u001b[0m: This number is out of bounds:("
     ]
    }
   ],
   "source": [
    "def func():\n",
    "    try:\n",
    "        a = int(input(\"Enter a number\"))\n",
    "        b = int(input(\"Enter a number\"))\n",
    "        if b>100:\n",
    "            raise Exception(\"This number is out of bounds:(\")\n",
    "        print(a/b)\n",
    "        return (a/b)\n",
    "\n",
    "    except ZeroDivisionError:\n",
    "        print(\"There is a zero division error\")\n",
    "        return 0\n",
    "    finally:\n",
    "        print(\"I will be always executed\")\n",
    "# print(\"I will be always executed\") THIS WILLALSO WORK \n",
    "#   But finally is used when we are returning a value\n",
    "if __name__ == \"__main__\":\n",
    "    print(\"main\")\n",
    "    func()\n",
    "\n",
    "# dunder nmae and main are used to check whether the module is imported or is in the same file \n",
    "# if it is on the same file it will execute as it will show \"__main__\" in __name__, \n",
    "# As if it is imported, it will display the name of the file not hte main name"
   ]
  },
  {
   "cell_type": "code",
   "execution_count": 114,
   "metadata": {},
   "outputs": [
    {
     "name": "stdout",
     "output_type": "stream",
     "text": [
      "10\n",
      "8\n",
      "12\n",
      "19\n",
      "19\n",
      "19\n"
     ]
    }
   ],
   "source": [
    "# global Keyborard\n",
    "# changes th avarible uin the global scope\n",
    "a = 10\n",
    "\n",
    "def func():\n",
    "    global a \n",
    "    a = 8\n",
    "    print(a)\n",
    "    a = 12 \n",
    "    print(a) \n",
    "    a = 19 \n",
    "    print(a) \n",
    "\n",
    "print(a)\n",
    "func()\n",
    "print(a)\n",
    "print(a)\n",
    "\n"
   ]
  },
  {
   "cell_type": "code",
   "execution_count": 118,
   "metadata": {},
   "outputs": [
    {
     "name": "stdout",
     "output_type": "stream",
     "text": [
      "Item 1 is 1\n",
      "Item 2 is 3\n",
      "Item 3 is seed\n",
      "Item 4 is 2\n",
      "Item 5 is apple\n",
      "Item 6 is 9\n"
     ]
    }
   ],
   "source": [
    "nums = [1,3,\"seed\",2,\"apple\",9]\n",
    "\n",
    "# i =0 \n",
    "# for item in nums:\n",
    "#     i+=1\n",
    "#     print(f\"Item {i} is {item}\")  \n",
    "\n",
    "for i, item in enumerate(nums):\n",
    "    print(f\"Item {i+1} is {item}\")  \n",
    "\n",
    "\n",
    "# It return booth index and values of the list or iterables"
   ]
  },
  {
   "cell_type": "code",
   "execution_count": 125,
   "metadata": {},
   "outputs": [
    {
     "name": "stdout",
     "output_type": "stream",
     "text": [
      "[Errno 2] No such file or directory: '3.txt'\n",
      "The try ran successfully\n"
     ]
    }
   ],
   "source": [
    "n = 3\n",
    "try:\n",
    "    for i in range(1,n+1):\n",
    "        with open(f\"{i}.txt\", \"r\") as f:\n",
    "            text = f.read()\n",
    "except Exception as e:\n",
    "    print(e)\n",
    "finally:\n",
    "    print(\"The try ran successfully\")\n"
   ]
  },
  {
   "cell_type": "code",
   "execution_count": 133,
   "metadata": {},
   "outputs": [
    {
     "name": "stdout",
     "output_type": "stream",
     "text": [
      "seed\n",
      "apple\n",
      "ad\n"
     ]
    }
   ],
   "source": [
    "nums = [1,3,\"seed\",2,\"apple\",9, \"ad\", \"oqh98\"]\n",
    "try:\n",
    "    for i, item in enumerate(nums):\n",
    "        if i+1 == 3 or i+1 == 5 or i+1 == 7:\n",
    "            print(item)\n",
    "except Exception as e:\n",
    "    print(e)\n"
   ]
  },
  {
   "cell_type": "code",
   "execution_count": 140,
   "metadata": {},
   "outputs": [],
   "source": [
    "def tables(n):\n",
    "    table = [f\"{i} X {n} = {i * n}\\n\" for i in range(1,11)]\n",
    "    return (table)\n",
    "a = tables(5)\n",
    "\n",
    "\n",
    "with open(\"1.txt\", \"w\") as f:\n",
    "    for i in a:\n",
    "        f.write(i)"
   ]
  },
  {
   "cell_type": "code",
   "execution_count": 137,
   "metadata": {},
   "outputs": [
    {
     "name": "stdout",
     "output_type": "stream",
     "text": [
      "0.0\n",
      "Successfull\n"
     ]
    }
   ],
   "source": [
    "try:\n",
    "    a = int(input())\n",
    "    b = int(input())\n",
    "    print(a/b)\n",
    "\n",
    "except ZeroDivisionError:\n",
    "    print(\"Infinite\")\n",
    "else:\n",
    "    print(\"Successfull\")"
   ]
  },
  {
   "cell_type": "code",
   "execution_count": 142,
   "metadata": {},
   "outputs": [
    {
     "name": "stdout",
     "output_type": "stream",
     "text": [
      "25\n",
      "10\n"
     ]
    }
   ],
   "source": [
    "square = lambda x: x*x\n",
    "Sum = lambda a,b,c : a+b+c\n",
    "print(square(5))\n",
    "print(Sum(5,4,1))"
   ]
  },
  {
   "cell_type": "code",
   "execution_count": 149,
   "metadata": {},
   "outputs": [
    {
     "name": "stdout",
     "output_type": "stream",
     "text": [
      "[1, 2025, 4, 25, 49, 64, 256]\n",
      "[2, 8, 16]\n",
      "84\n"
     ]
    }
   ],
   "source": [
    "from functools import reduce\n",
    "\n",
    "# lambda functions\n",
    "square = lambda x: x*x\n",
    "even = lambda x : x%2==0\n",
    "\n",
    "# map function\n",
    "l1 = [1,45,2,5,7,8,16]\n",
    "c = map(square,l1)\n",
    "print(list(c))\n",
    "\n",
    "# use of filter in program\n",
    "a = filter(even, l1)\n",
    "print(list(a))\n",
    "\n",
    "# use of reduce \n",
    "product = lambda x, y: x+y\n",
    "b = reduce(product, l1)\n",
    "print(b)\n",
    "\n"
   ]
  },
  {
   "cell_type": "code",
   "execution_count": null,
   "metadata": {},
   "outputs": [],
   "source": [
    "nums = [12,4,6,84,2,212,45]\n",
    "print(\"\\n\".join(str(nums)))"
   ]
  },
  {
   "cell_type": "code",
   "execution_count": null,
   "metadata": {},
   "outputs": [],
   "source": [
    "       "
   ]
  }
 ],
 "metadata": {
  "kernelspec": {
   "display_name": "Python 3",
   "language": "python",
   "name": "python3"
  },
  "language_info": {
   "codemirror_mode": {
    "name": "ipython",
    "version": 3
   },
   "file_extension": ".py",
   "mimetype": "text/x-python",
   "name": "python",
   "nbconvert_exporter": "python",
   "pygments_lexer": "ipython3",
   "version": "3.11.3"
  },
  "orig_nbformat": 4
 },
 "nbformat": 4,
 "nbformat_minor": 2
}
