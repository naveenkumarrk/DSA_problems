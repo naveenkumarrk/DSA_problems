{
 "cells": [
  {
   "cell_type": "code",
   "execution_count": 2,
   "metadata": {},
   "outputs": [
    {
     "name": "stdout",
     "output_type": "stream",
     "text": [
      "This is an example for the puyton I/O file system \n"
     ]
    }
   ],
   "source": [
    "f = open(\"this.txt\", \"r\")\n",
    "text = f.read()\n",
    "print(text)\n",
    "f.close()"
   ]
  },
  {
   "cell_type": "code",
   "execution_count": 22,
   "metadata": {},
   "outputs": [
    {
     "name": "stdout",
     "output_type": "stream",
     "text": [
      "yes\n"
     ]
    }
   ],
   "source": [
    "with open(\"this.txt\", 'r') as f:\n",
    "    if \"Twinkle\" in f.read():\n",
    "        print(\"yes\")\n",
    "    else:\n",
    "        print(\"no\")"
   ]
  },
  {
   "cell_type": "code",
   "execution_count": 13,
   "metadata": {},
   "outputs": [
    {
     "data": {
      "text/plain": [
       "'a a b c'"
      ]
     },
     "execution_count": 13,
     "metadata": {},
     "output_type": "execute_result"
    }
   ],
   "source": [
    "# dictionary = [\"cat\",\"bat\",\"rat\"]\n",
    "# sentence = \"the cattle was rattled by the battery\"\n",
    "dictionary = [\"a\",\"b\",\"c\"]\n",
    "sentence = \"aadsfasf absbs bbab cadsfafs\"\n",
    "\n",
    "sen = sentence.split(\" \")\n",
    "\n",
    "for word in dictionary:\n",
    "    i = 0\n",
    "    while i < len(sen):\n",
    "        if sen[i][0:len(word)] == word:\n",
    "            sen[i] = word\n",
    "        i+=1\n",
    "\" \".join(sen)"
   ]
  },
  {
   "cell_type": "code",
   "execution_count": 29,
   "metadata": {},
   "outputs": [
    {
     "name": "stdout",
     "output_type": "stream",
     "text": [
      "[2, 2, 2, 1, 4, 3, 3, 9, 6, 7, 19]\n"
     ]
    }
   ],
   "source": [
    "from collections import defaultdict\n",
    "\n",
    "arr1 = [2,3,1,3,2,4,6,7,9,2,19]\n",
    "arr2 = [2,1,4,3,9,6]\n",
    "\n",
    "arr2_set = set(arr2)\n",
    "arr1_count =  defaultdict(int)\n",
    "end = []\n",
    "\n",
    "for n in arr1:\n",
    "    if n not in arr2_set:\n",
    "        end.append(n)\n",
    "    arr1_count[n]+=1\n",
    "end.sort()\n",
    "\n",
    "res = []\n",
    "for n in arr2:\n",
    "    for _ in range(arr1_count[n]):\n",
    "        res.append(n)\n",
    "print(res+end)\n",
    "\n",
    "# Output: [2,2,2,1,4,3,3,9,6,7,19]\n"
   ]
  },
  {
   "cell_type": "code",
   "execution_count": 6,
   "metadata": {},
   "outputs": [
    {
     "name": "stdout",
     "output_type": "stream",
     "text": [
      "the score is : 8\n"
     ]
    }
   ],
   "source": [
    "import random\n",
    "def game():\n",
    "    score = random.randint(1,100)\n",
    "    print(\"the score is :\", score)\n",
    "    return score\n",
    "\n",
    "score = game()\n",
    "\n",
    "with open(\"this.txt\",\"r\") as f:\n",
    "    highScore = int(f.read())\n",
    "\n",
    "if score > highScore:\n",
    "        with open(\"this.txt\", \"w\") as f:\n",
    "             f.write(str(score))"
   ]
  },
  {
   "cell_type": "code",
   "execution_count": 8,
   "metadata": {},
   "outputs": [],
   "source": [
    "for i in range(2,21):\n",
    "    table = ''\n",
    "    for j in range(1,11):\n",
    "        table+= f\"{i} X {j} = {i*j} \\n\"\n",
    "    with open(f\"tables/{i}.txt\", \"w\") as f:\n",
    "        f.write(table)"
   ]
  },
  {
   "cell_type": "code",
   "execution_count": 31,
   "metadata": {},
   "outputs": [
    {
     "name": "stdout",
     "output_type": "stream",
     "text": [
      "FUCK is the thing in it FUCK\n"
     ]
    }
   ],
   "source": [
    "textFile ='this.txt'\n",
    "with open(textFile,\"r\") as f:\n",
    "    text = f.readline()\n",
    "if \"Donkey\" in text:\n",
    "    text = text.replace(\"Donkey\", \"FUCK\")\n",
    "\n",
    "with open(textFile, \"w\") as f:\n",
    "    f.write(text)\n",
    "\n",
    "# a = text.split(\" \")\n",
    "# print(a)\n",
    "print(text)\n"
   ]
  },
  {
   "cell_type": "code",
   "execution_count": 33,
   "metadata": {},
   "outputs": [
    {
     "data": {
      "text/plain": [
       "'i wanna /*cenosr*/ this government and make it /*cenosr*/ this apple juice made by a /*cenosr*/ guy who i wanna/*cenosr*/'"
      ]
     },
     "execution_count": 33,
     "metadata": {},
     "output_type": "execute_result"
    }
   ],
   "source": [
    "def censor(text_file, censor_words):\n",
    "    with open(text_file, \"r\") as f:\n",
    "        text = f.read().lower()\n",
    "    for i in censor_words:\n",
    "        if i.lower() in text:\n",
    "            text = text.replace(i, \"/*cenosr*/\")\n",
    "    with open(text_file, \"w\") as f:\n",
    "        f.write(text)\n",
    "            \n",
    "    return  text\n",
    "\n",
    "text_file = \"this.txt\"\n",
    "cens = [\"fuck\", \"suck\",\" kill\", \"mediocre\"]\n",
    "\n",
    "censor(text_file, cens)\n"
   ]
  },
  {
   "cell_type": "code",
   "execution_count": 2,
   "metadata": {},
   "outputs": [
    {
     "data": {
      "text/plain": [
       "[0, 0, 1, 1, 2, 2]"
      ]
     },
     "execution_count": 2,
     "metadata": {},
     "output_type": "execute_result"
    }
   ],
   "source": [
    "nums = [2,0,2,1,1,0]\n",
    "\n",
    "def sort_colurs(nums):\n",
    "    low = 0 \n",
    "    mid = 0\n",
    "    high = len(nums) - 1\n",
    "\n",
    "    while mid <= high:\n",
    "        if nums[mid] == 0:\n",
    "            nums[mid],nums[low] = nums[low],nums[mid]\n",
    "            low+=1\n",
    "            mid+=1\n",
    "        elif nums[mid] == 1:\n",
    "            mid+=1\n",
    "        else:\n",
    "            nums[mid],nums[high] = nums[high],nums[mid]\n",
    "            high-=1\n",
    "    return nums\n",
    "\n",
    "sort_colurs(nums)\n",
    "\n",
    "            "
   ]
  },
  {
   "cell_type": "code",
   "execution_count": null,
   "metadata": {},
   "outputs": [],
   "source": []
  },
  {
   "cell_type": "code",
   "execution_count": null,
   "metadata": {},
   "outputs": [],
   "source": []
  }
 ],
 "metadata": {
  "kernelspec": {
   "display_name": "Python 3",
   "language": "python",
   "name": "python3"
  },
  "language_info": {
   "codemirror_mode": {
    "name": "ipython",
    "version": 3
   },
   "file_extension": ".py",
   "mimetype": "text/x-python",
   "name": "python",
   "nbconvert_exporter": "python",
   "pygments_lexer": "ipython3",
   "version": "3.11.3"
  },
  "orig_nbformat": 4
 },
 "nbformat": 4,
 "nbformat_minor": 2
}
