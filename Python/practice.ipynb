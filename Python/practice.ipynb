{
 "cells": [
  {
   "cell_type": "code",
   "execution_count": 2,
   "metadata": {},
   "outputs": [
    {
     "name": "stdout",
     "output_type": "stream",
     "text": [
      "This is an example for the puyton I/O file system \n"
     ]
    }
   ],
   "source": [
    "f = open(\"this.txt\", \"r\")\n",
    "text = f.read()\n",
    "print(text)\n",
    "f.close()"
   ]
  },
  {
   "cell_type": "code",
   "execution_count": 22,
   "metadata": {},
   "outputs": [
    {
     "name": "stdout",
     "output_type": "stream",
     "text": [
      "yes\n"
     ]
    }
   ],
   "source": [
    "with open(\"this.txt\", 'r') as f:\n",
    "    if \"Twinkle\" in f.read():\n",
    "        print(\"yes\")\n",
    "    else:\n",
    "        print(\"no\")"
   ]
  },
  {
   "cell_type": "code",
   "execution_count": 13,
   "metadata": {},
   "outputs": [
    {
     "data": {
      "text/plain": [
       "'a a b c'"
      ]
     },
     "execution_count": 13,
     "metadata": {},
     "output_type": "execute_result"
    }
   ],
   "source": [
    "# dictionary = [\"cat\",\"bat\",\"rat\"]\n",
    "# sentence = \"the cattle was rattled by the battery\"\n",
    "dictionary = [\"a\",\"b\",\"c\"]\n",
    "sentence = \"aadsfasf absbs bbab cadsfafs\"\n",
    "\n",
    "sen = sentence.split(\" \")\n",
    "\n",
    "for word in dictionary:\n",
    "    i = 0\n",
    "    while i < len(sen):\n",
    "        if sen[i][0:len(word)] == word:\n",
    "            sen[i] = word\n",
    "        i+=1\n",
    "\" \".join(sen)"
   ]
  },
  {
   "cell_type": "code",
   "execution_count": 29,
   "metadata": {},
   "outputs": [
    {
     "name": "stdout",
     "output_type": "stream",
     "text": [
      "[2, 2, 2, 1, 4, 3, 3, 9, 6, 7, 19]\n"
     ]
    }
   ],
   "source": [
    "from collections import defaultdict\n",
    "\n",
    "arr1 = [2,3,1,3,2,4,6,7,9,2,19]\n",
    "arr2 = [2,1,4,3,9,6]\n",
    "\n",
    "arr2_set = set(arr2)\n",
    "arr1_count =  defaultdict(int)\n",
    "end = []\n",
    "\n",
    "for n in arr1:\n",
    "    if n not in arr2_set:\n",
    "        end.append(n)\n",
    "    arr1_count[n]+=1\n",
    "end.sort()\n",
    "\n",
    "res = []\n",
    "for n in arr2:\n",
    "    for _ in range(arr1_count[n]):\n",
    "        res.append(n)\n",
    "print(res+end)\n",
    "\n",
    "# Output: [2,2,2,1,4,3,3,9,6,7,19]\n"
   ]
  },
  {
   "cell_type": "code",
   "execution_count": 23,
   "metadata": {},
   "outputs": [
    {
     "data": {
      "text/plain": [
       "{1, 2, 3, 4, 7, 9, 19}"
      ]
     },
     "execution_count": 23,
     "metadata": {},
     "output_type": "execute_result"
    }
   ],
   "source": [
    "a = set()\n",
    "arr1 = [2,3,1,3,2,4,6,7,9,2,19]\n",
    "\n",
    "a=set(arr1)\n",
    "a.discard(6)\n",
    "a\n",
    "        "
   ]
  },
  {
   "cell_type": "code",
   "execution_count": 10,
   "metadata": {},
   "outputs": [
    {
     "data": {
      "text/plain": [
       "['the', 'cat', 'was', 'rattled', 'by', 'the', 'battery']"
      ]
     },
     "execution_count": 10,
     "metadata": {},
     "output_type": "execute_result"
    }
   ],
   "source": []
  },
  {
   "cell_type": "code",
   "execution_count": null,
   "metadata": {},
   "outputs": [],
   "source": []
  }
 ],
 "metadata": {
  "kernelspec": {
   "display_name": "Python 3",
   "language": "python",
   "name": "python3"
  },
  "language_info": {
   "codemirror_mode": {
    "name": "ipython",
    "version": 3
   },
   "file_extension": ".py",
   "mimetype": "text/x-python",
   "name": "python",
   "nbconvert_exporter": "python",
   "pygments_lexer": "ipython3",
   "version": "3.11.3"
  },
  "orig_nbformat": 4
 },
 "nbformat": 4,
 "nbformat_minor": 2
}
