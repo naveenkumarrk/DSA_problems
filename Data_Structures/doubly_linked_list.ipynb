{
 "cells": [
  {
   "cell_type": "code",
   "execution_count": 5,
   "metadata": {},
   "outputs": [
    {
     "name": "stdout",
     "output_type": "stream",
     "text": [
      "23->5->3->1->None\n",
      "3->1->None\n"
     ]
    }
   ],
   "source": [
    "class Node():\n",
    "    \n",
    "    def __init__(self,data = None):\n",
    "        self.data = data\n",
    "        self.next = None\n",
    "        self.prev = None\n",
    "        \n",
    "class DLL():\n",
    "    \n",
    "    def __init__(self):\n",
    "        self.head = None\n",
    "        \n",
    "    def insert_at_beginning(self,data):\n",
    "        new_node = Node(data)\n",
    "        if self.head is None:\n",
    "            self.head = new_node\n",
    "        else:\n",
    "            self.head.prev = new_node\n",
    "            new_node.next = self.head\n",
    "            self.head = new_node\n",
    "    \n",
    "    def delete_at_beginnig(self):\n",
    "        if self.head is None:\n",
    "            print(\"Empty List\")\n",
    "        elif self.head.next is None:\n",
    "            self.head = None\n",
    "        else:\n",
    "            self.head = self.head.next\n",
    "            self.head.prev = None\n",
    "            \n",
    "    def printList(self):\n",
    "        if self.head is None:\n",
    "            print(\"Empty List\")\n",
    "        curr = self.head\n",
    "        while curr != None:\n",
    "            print(curr.data, end= \"->\")\n",
    "            curr = curr.next\n",
    "        print(\"None\")\n",
    "        \n",
    "obj = DLL()\n",
    "obj.insert_at_beginning(1)\n",
    "obj.insert_at_beginning(3)\n",
    "obj.insert_at_beginning(5)\n",
    "obj.insert_at_beginning(23)\n",
    "\n",
    "obj.printList()\n",
    "\n",
    "obj.delete_at_beginnig()\n",
    "obj.delete_at_beginnig()\n",
    "obj.printList()"
   ]
  },
  {
   "cell_type": "code",
   "execution_count": null,
   "metadata": {},
   "outputs": [],
   "source": [
    "class Node:\n",
    "    def __init__(self, value):\n",
    "        self.value = value\n",
    "        self.left = None\n",
    "        self.right = None\n",
    "class BST:\n",
    "    def __init__(self):\n",
    "        self.root = None\n",
    "        \n",
    "    def insert_at_start(self, value):\n",
    "        new_node = Node(value)\n",
    "        temp = self.root\n",
    "        while temp is not None:\n",
    "            "
   ]
  }
 ],
 "metadata": {
  "kernelspec": {
   "display_name": "Python 3",
   "language": "python",
   "name": "python3"
  },
  "language_info": {
   "codemirror_mode": {
    "name": "ipython",
    "version": 3
   },
   "file_extension": ".py",
   "mimetype": "text/x-python",
   "name": "python",
   "nbconvert_exporter": "python",
   "pygments_lexer": "ipython3",
   "version": "3.11.3"
  },
  "orig_nbformat": 4
 },
 "nbformat": 4,
 "nbformat_minor": 2
}
