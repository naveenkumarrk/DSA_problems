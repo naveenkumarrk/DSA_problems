{
 "cells": [
  {
   "cell_type": "code",
   "execution_count": 25,
   "metadata": {},
   "outputs": [
    {
     "name": "stdout",
     "output_type": "stream",
     "text": [
      "21->4->6->None\n",
      "5->1->3->None\n"
     ]
    },
    {
     "data": {
      "text/plain": [
       "[1, 3, 4, 5, 6, 21]"
      ]
     },
     "execution_count": 25,
     "metadata": {},
     "output_type": "execute_result"
    }
   ],
   "source": [
    "class Node:\n",
    "    def __init__(self, value):\n",
    "        self.value = value\n",
    "        self.next  = None\n",
    "\n",
    "class SLL:\n",
    "    \n",
    "    def __init__(self):\n",
    "        self.head = None\n",
    "    \n",
    "    def reverse(self):\n",
    "        curr = self.head\n",
    "        prev = None\n",
    "        while curr:\n",
    "            next_node = curr.next\n",
    "            curr.next = prev\n",
    "            prev = curr\n",
    "            curr = next_node\n",
    "        self.head = prev\n",
    "        \n",
    "    def display(self,l1):\n",
    "        while l1:\n",
    "            print(l1.value, end = \"->\")\n",
    "            l1 = l1.next\n",
    "        print(\"None\")\n",
    "    \n",
    "    def insert_at_beginning(self,data):\n",
    "        new_node = Node(data)\n",
    "        if self.head is None:\n",
    "            self.head = new_node\n",
    "        else:\n",
    "            self.head.prev = new_node\n",
    "            new_node.next = self.head\n",
    "            self.head = new_node\n",
    "            \n",
    "    def merge_sort_list(self, l1, l2):\n",
    "        res= []\n",
    "        while l1:\n",
    "            res.append(l1.value)\n",
    "            l1 = l1.next\n",
    "        while l2: \n",
    "            res.append(l2.value)\n",
    "            l2 = l2.next\n",
    "        return self.quicksort(res)\n",
    "    \n",
    "    def quicksort(self, arr):\n",
    "        if len(arr) <=1:\n",
    "            return arr\n",
    "        else:\n",
    "            pivot = arr[0]\n",
    "            left = [x for x in arr[1:] if x <=pivot]\n",
    "            right = [x for x in arr[1:] if x >pivot]\n",
    "            return self.quicksort(left) + [pivot] + self.quicksort(right)      \n",
    " \n",
    "l1 = Node(21)\n",
    "l1.next = Node(4)\n",
    "l1.next.next = Node(6)\n",
    "\n",
    "l2 = Node(5)\n",
    "l2.next = Node(1)\n",
    "l2.next.next = Node(3)\n",
    "\n",
    "\n",
    "obj = SLL()\n",
    "obj.display(l1)\n",
    "obj.display(l2)\n",
    "\n",
    "obj.merge_sort_list(l1,l2)\n",
    "        "
   ]
  },
  {
   "cell_type": "code",
   "execution_count": 23,
   "metadata": {},
   "outputs": [
    {
     "name": "stdout",
     "output_type": "stream",
     "text": [
      "None\n"
     ]
    }
   ],
   "source": []
  }
 ],
 "metadata": {
  "kernelspec": {
   "display_name": "Python 3",
   "language": "python",
   "name": "python3"
  },
  "language_info": {
   "codemirror_mode": {
    "name": "ipython",
    "version": 3
   },
   "file_extension": ".py",
   "mimetype": "text/x-python",
   "name": "python",
   "nbconvert_exporter": "python",
   "pygments_lexer": "ipython3",
   "version": "3.11.3"
  },
  "orig_nbformat": 4
 },
 "nbformat": 4,
 "nbformat_minor": 2
}
