{
 "cells": [
  {
   "cell_type": "code",
   "execution_count": 7,
   "metadata": {},
   "outputs": [
    {
     "name": "stdout",
     "output_type": "stream",
     "text": [
      "5 8 13 53 624 "
     ]
    }
   ],
   "source": [
    "class Node():\n",
    "    \n",
    "    def __init__(self, val):\n",
    "        self.val = val\n",
    "        self.left = None\n",
    "        self.right = None\n",
    "\n",
    "class BST:\n",
    "    def __init__(self):\n",
    "        self.root = None\n",
    "        \n",
    "    #traversal methods\n",
    "    def insert(self, val):\n",
    "        new_node = Node(val)\n",
    "        if self.root is None:\n",
    "            self.root = new_node\n",
    "        else:\n",
    "            temp = self.root\n",
    "            last_node = None\n",
    "            flag = True\n",
    "            while temp:\n",
    "                if temp.val > val:\n",
    "                    last_node = temp\n",
    "                    temp = temp.left\n",
    "                    \n",
    "                elif temp.val < val:\n",
    "                    last_node = temp\n",
    "                    temp = temp.right\n",
    "                    flag= False\n",
    "            if flag:\n",
    "                last_node.left = new_node\n",
    "            else:\n",
    "                last_node.right = new_node\n",
    "\n",
    "    def inOrder(self,root):\n",
    "            if root:\n",
    "                self.inOrder(root.left)\n",
    "                print(root.val, end = \" \")\n",
    "                self.inOrder(root.right)\n",
    "\n",
    "                \n",
    "obj = BST()\n",
    "obj.insert(5)\n",
    "obj.insert(8)\n",
    "obj.insert(13)\n",
    "obj.insert(53)\n",
    "obj.insert(624)\n",
    "\n",
    "obj.inOrder(obj.root)"
   ]
  },
  {
   "cell_type": "code",
   "execution_count": null,
   "metadata": {},
   "outputs": [],
   "source": [
    "class Node:\n",
    "    def __init__(self, val):\n",
    "        self.root = val\n",
    "        self.left = None\n",
    "        self.right = None\n",
    "\n",
    "class BST:\n",
    "    \n"
   ]
  },
  {
   "cell_type": "code",
   "execution_count": 5,
   "metadata": {},
   "outputs": [
    {
     "name": "stdout",
     "output_type": "stream",
     "text": [
      "0 2 8 14 24 34 48 62 80 "
     ]
    }
   ],
   "source": [
    "n = 10\n",
    "for i in range(1,n):\n",
    "    if i % 2 == 0:\n",
    "        print((i*i)-2,end=\" \")\n",
    "    else:\n",
    "        print((i*i)-1, end= \" \")"
   ]
  },
  {
   "cell_type": "code",
   "execution_count": null,
   "metadata": {},
   "outputs": [],
   "source": []
  }
 ],
 "metadata": {
  "kernelspec": {
   "display_name": "Python 3",
   "language": "python",
   "name": "python3"
  },
  "language_info": {
   "codemirror_mode": {
    "name": "ipython",
    "version": 3
   },
   "file_extension": ".py",
   "mimetype": "text/x-python",
   "name": "python",
   "nbconvert_exporter": "python",
   "pygments_lexer": "ipython3",
   "version": "3.11.3"
  },
  "orig_nbformat": 4
 },
 "nbformat": 4,
 "nbformat_minor": 2
}
