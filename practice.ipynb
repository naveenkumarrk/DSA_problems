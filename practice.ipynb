{
 "cells": [
  {
   "cell_type": "code",
   "execution_count": 52,
   "metadata": {},
   "outputs": [
    {
     "name": "stdout",
     "output_type": "stream",
     "text": [
      "6\n"
     ]
    }
   ],
   "source": [
    "start = 20\n",
    "end = 1159\n",
    "limit = 5\n",
    "num = \"20\"\n",
    "count = 0\n",
    "for i in range(limit+1):\n",
    "    new_num = str(i) + num\n",
    "    if start <= int(new_num) <= end:\n",
    "        count+=1\n",
    "print(count)\n",
    "\n"
   ]
  },
  {
   "cell_type": "code",
   "execution_count": 48,
   "metadata": {},
   "outputs": [
    {
     "name": "stdout",
     "output_type": "stream",
     "text": [
      "[1, 1, 4, 2, 1, 1, 0, 0]\n"
     ]
    }
   ],
   "source": [
    "temp = [73,74,75,71,69,72,76,73]\n",
    "n = len(temp)\n",
    "final = []\n",
    "for i in range(n):\n",
    "    count = 1\n",
    "    j = i+1\n",
    "    while j< n:\n",
    "        if temp[j] > temp[i]:\n",
    "            break\n",
    "        else:\n",
    "            count+=1\n",
    "            j+=1\n",
    "    if j == len(temp):\n",
    "        count = 0\n",
    "    final.append(count)\n",
    "print(final)"
   ]
  },
  {
   "cell_type": "code",
   "execution_count": 56,
   "metadata": {},
   "outputs": [
    {
     "name": "stdout",
     "output_type": "stream",
     "text": [
      "1\n",
      "2\n",
      "3\n",
      "4\n",
      "5\n"
     ]
    }
   ],
   "source": [
    "def display_num(n):\n",
    "    if n==5:\n",
    "        print(\"5\")\n",
    "        return\n",
    "    print(n)\n",
    "    return display_num(n+1)\n",
    "display_num(1)"
   ]
  },
  {
   "cell_type": "code",
   "execution_count": null,
   "metadata": {},
   "outputs": [],
   "source": []
  }
 ],
 "metadata": {
  "kernelspec": {
   "display_name": "Python 3",
   "language": "python",
   "name": "python3"
  },
  "language_info": {
   "codemirror_mode": {
    "name": "ipython",
    "version": 3
   },
   "file_extension": ".py",
   "mimetype": "text/x-python",
   "name": "python",
   "nbconvert_exporter": "python",
   "pygments_lexer": "ipython3",
   "version": "3.11.3"
  },
  "orig_nbformat": 4
 },
 "nbformat": 4,
 "nbformat_minor": 2
}
