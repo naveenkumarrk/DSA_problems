{
 "cells": [
  {
   "cell_type": "code",
   "execution_count": 52,
   "metadata": {},
   "outputs": [
    {
     "name": "stdout",
     "output_type": "stream",
     "text": [
      "6\n"
     ]
    }
   ],
   "source": [
    "start = 20\n",
    "end = 1159\n",
    "limit = 5\n",
    "num = \"20\"\n",
    "count = 0\n",
    "for i in range(limit+1):\n",
    "    new_num = str(i) + num\n",
    "    if start <= int(new_num) <= end:\n",
    "        count+=1\n",
    "print(count)"
   ]
  },
  {
   "cell_type": "code",
   "execution_count": 48,
   "metadata": {},
   "outputs": [
    {
     "name": "stdout",
     "output_type": "stream",
     "text": [
      "[1, 1, 4, 2, 1, 1, 0, 0]\n"
     ]
    }
   ],
   "source": [
    "temp = [73,74,75,71,69,72,76,73]\n",
    "n = len(temp)\n",
    "final = []\n",
    "for i in range(n):\n",
    "    count = 1\n",
    "    j = i+1\n",
    "    while j< n:\n",
    "        if temp[j] > temp[i]:\n",
    "            break\n",
    "        else:\n",
    "            count+=1\n",
    "            j+=1\n",
    "    if j == len(temp):\n",
    "        count = 0\n",
    "    final.append(count)\n",
    "print(final)"
   ]
  },
  {
   "cell_type": "code",
   "execution_count": 1,
   "metadata": {},
   "outputs": [
    {
     "name": "stdout",
     "output_type": "stream",
     "text": [
      "1\n",
      "2\n",
      "3\n",
      "4\n",
      "5\n",
      "6\n",
      "7\n",
      "8\n",
      "9\n",
      "10\n"
     ]
    }
   ],
   "source": [
    "def display_num(n):\n",
    "    if n==10:\n",
    "        print(\"10\")\n",
    "        return\n",
    "    print(n)\n",
    "    return display_num(n+1)\n",
    "display_num(1)"
   ]
  },
  {
   "cell_type": "code",
   "execution_count": 2,
   "metadata": {},
   "outputs": [
    {
     "data": {
      "text/plain": [
       "55"
      ]
     },
     "execution_count": 2,
     "metadata": {},
     "output_type": "execute_result"
    }
   ],
   "source": [
    "def fibo(n):\n",
    "    if n< 2:\n",
    "        return n\n",
    "    return fibo(n-1) + fibo(n-2)\n",
    "\n",
    "fibo(10)"
   ]
  },
  {
   "cell_type": "code",
   "execution_count": 3,
   "metadata": {},
   "outputs": [
    {
     "data": {
      "text/plain": [
       "-1"
      ]
     },
     "execution_count": 3,
     "metadata": {},
     "output_type": "execute_result"
    }
   ],
   "source": [
    "def search(arr, target, s,e):\n",
    "    if s> e:\n",
    "        return -1\n",
    "    mid = s + (e - s) // 2\n",
    "    \n",
    "    if arr[mid] == target:\n",
    "        return mid\n",
    "    \n",
    "    if target > arr[mid]:\n",
    "        return search(arr, target, mid + 1,e)\n",
    "    \n",
    "    return search(arr, target, s, mid - 1)\n",
    "arr = [1,2,5,7,12,22,45,65,88]\n",
    "\n",
    "search(arr,455,0,len(arr)-1)\n"
   ]
  },
  {
   "cell_type": "code",
   "execution_count": 3,
   "metadata": {},
   "outputs": [
    {
     "name": "stdout",
     "output_type": "stream",
     "text": [
      "[[2, 5, 6], [5, 6], [6]]\n"
     ]
    }
   ],
   "source": [
    "arr = [2,5,6]\n",
    "n = len(arr)\n",
    "sub_arr =[]\n",
    "for i in range(n):\n",
    "    sub = []\n",
    "    for j in range(i, n):\n",
    "        sub.append(arr[j])\n",
    "    sub_arr.append(sub)\n",
    "    \n",
    "print(sub_arr)"
   ]
  },
  {
   "cell_type": "code",
   "execution_count": 8,
   "metadata": {},
   "outputs": [
    {
     "name": "stdout",
     "output_type": "stream",
     "text": [
      "[[2], [2, 5, 6], [], [5], [5, 6], [], [6], [6], []]\n"
     ]
    }
   ],
   "source": [
    "arr = [2,5,6]\n",
    "subsets= []\n",
    "n = len(arr)\n",
    "for i in range(n):\n",
    "    subsets.append([arr[i]])\n",
    "    sub = []\n",
    "    for j in range(i,n):\n",
    "        sub.append(arr[j])\n",
    "    subsets.append(sub) \n",
    "    subsets.append([])\n",
    "    \n",
    "print(subsets)     \n",
    "\n",
    "#worst code "
   ]
  },
  {
   "cell_type": "code",
   "execution_count": 14,
   "metadata": {},
   "outputs": [
    {
     "data": {
      "text/plain": [
       "[[2, 5, 6], [2, 5], [2, 6], [2], [5, 6], [5], [6], []]"
      ]
     },
     "execution_count": 14,
     "metadata": {},
     "output_type": "execute_result"
    }
   ],
   "source": [
    "# using recursion\n",
    "arr = [2,5,6]\n",
    "\n",
    "def backTrac_subsets(arr):\n",
    "    res = []\n",
    "    \n",
    "    sunset = []\n",
    "    def subset(i):\n",
    "        if i >= len(arr):\n",
    "            res.append(sunset.copy())\n",
    "            return\n",
    "        sunset.append(arr[i])\n",
    "        subset(i+1)\n",
    "        sunset.pop()\n",
    "        subset(i+1)\n",
    "        \n",
    "    subset(0)\n",
    "    return res\n",
    "\n",
    "backTrac_subsets(arr)"
   ]
  },
  {
   "cell_type": "code",
   "execution_count": 6,
   "metadata": {},
   "outputs": [
    {
     "data": {
      "text/plain": [
       "3"
      ]
     },
     "execution_count": 6,
     "metadata": {},
     "output_type": "execute_result"
    }
   ],
   "source": [
    "string = (7,0,0,8,9,0)\n",
    "string.count(0) "
   ]
  },
  {
   "cell_type": "code",
   "execution_count": 5,
   "metadata": {},
   "outputs": [
    {
     "name": "stdout",
     "output_type": "stream",
     "text": [
      "3\n"
     ]
    }
   ],
   "source": [
    "print(abs(ord('a')-ord('d')))"
   ]
  },
  {
   "cell_type": "code",
   "execution_count": null,
   "metadata": {},
   "outputs": [],
   "source": [
    "s = \"abcd\"\n",
    "t = \"bcdf\"\n",
    "\n",
    "maxCost  = 3\n",
    "\n",
    "for i in range(len(s)):\n",
    "    x"
   ]
  },
  {
   "cell_type": "code",
   "execution_count": 21,
   "metadata": {},
   "outputs": [
    {
     "data": {
      "text/plain": [
       "12"
      ]
     },
     "execution_count": 21,
     "metadata": {},
     "output_type": "execute_result"
    }
   ],
   "source": [
    "s = \"vrykt\"\n",
    "t = \"rkge\"\n",
    "def num_text(s,t):\n",
    "    count = 0\n",
    "    start = 0\n",
    "    for i in range(len(t)):\n",
    "        if t[start:i+1] not in s:\n",
    "            count+=1\n",
    "        start+=1\n",
    "    return count        \n",
    "num_text(s,t)"
   ]
  },
  {
   "cell_type": "code",
   "execution_count": 4,
   "metadata": {},
   "outputs": [
    {
     "name": "stdout",
     "output_type": "stream",
     "text": [
      "\n",
      "Dear  naveen,\n",
      "    YOu are Selected!\n",
      "7 Nov 2003\n",
      "\n"
     ]
    }
   ],
   "source": [
    "name = \" naveen\"\n",
    "date = \"7 Nov 2003\"\n",
    "\n",
    "text = '''\n",
    "Dear <name>,\n",
    "    YOu are Selected!\n",
    "<date>\n",
    "'''\n",
    "\n",
    "print(text.replace('<name>', name).replace(\"<date>\", date))"
   ]
  },
  {
   "cell_type": "code",
   "execution_count": 7,
   "metadata": {},
   "outputs": [
    {
     "data": {
      "text/plain": [
       "'you are not enough--for this still'"
      ]
     },
     "execution_count": 7,
     "metadata": {},
     "output_type": "execute_result"
    }
   ],
   "source": [
    "n = \"you are not enough  for this still\"\n",
    "n.replace(\"  \", \"--\")\n"
   ]
  },
  {
   "cell_type": "code",
   "execution_count": 9,
   "metadata": {},
   "outputs": [
    {
     "data": {
      "text/plain": [
       "'Dear Harry, This is a python course noice da badu'"
      ]
     },
     "execution_count": 9,
     "metadata": {},
     "output_type": "execute_result"
    }
   ],
   "source": [
    "letter = \"Dear Harry, This is a python course noice da badu\"\n",
    "letter"
   ]
  },
  {
   "cell_type": "code",
   "execution_count": 14,
   "metadata": {},
   "outputs": [
    {
     "name": "stdout",
     "output_type": "stream",
     "text": [
      "The definition is :  one\n"
     ]
    }
   ],
   "source": [
    "hindi_wrds = {\n",
    "    \"maa\" : \"mom\",\n",
    "    \"ek\": \"one\", \n",
    "    \"dhuniya\" : \"world\"\n",
    "}\n",
    "\n",
    "user = input(\"Enter the key:\")\n",
    "print(\"The definition is : \", hindi_wrds.get(user))\n",
    "\n",
    "# for key , val in hindi_wrds.items():\n",
    "#     print(f\"{key} : {val}\")"
   ]
  },
  {
   "cell_type": "code",
   "execution_count": 16,
   "metadata": {},
   "outputs": [
    {
     "data": {
      "text/plain": [
       "{3, 4, 12, 23, 34, 56, 64}"
      ]
     },
     "execution_count": 16,
     "metadata": {},
     "output_type": "execute_result"
    }
   ],
   "source": [
    "eight_set =set()\n",
    "for i in range(8):\n",
    "    nums = int(input(\"Enter the number\"))\n",
    "    eight_set.add(nums)\n",
    "eight_set"
   ]
  },
  {
   "cell_type": "code",
   "execution_count": 23,
   "metadata": {},
   "outputs": [
    {
     "name": "stdout",
     "output_type": "stream",
     "text": [
      "8 * 10 : 80\n",
      "8 * 9 : 72\n",
      "8 * 8 : 64\n",
      "8 * 7 : 56\n",
      "8 * 6 : 48\n",
      "8 * 5 : 40\n",
      "8 * 4 : 32\n",
      "8 * 3 : 24\n",
      "8 * 2 : 16\n",
      "8 * 1 : 8\n"
     ]
    }
   ],
   "source": [
    "num = 8\n",
    "for i in range(1,11):\n",
    "    i = 11- i\n",
    "    print(f\"{num} * {i} :\", num * i)"
   ]
  },
  {
   "cell_type": "code",
   "execution_count": 20,
   "metadata": {},
   "outputs": [
    {
     "data": {
      "text/plain": [
       "7"
      ]
     },
     "execution_count": 20,
     "metadata": {},
     "output_type": "execute_result"
    }
   ],
   "source": [
    "s= \"abccccdd\"\n",
    "\n",
    "def longest_palin(s):\n",
    "    dict = {}\n",
    "    count = 0\n",
    "    for  x in s:\n",
    "        if x in dict:\n",
    "            dict[x]+=1\n",
    "        else:\n",
    "            dict[x]=1\n",
    "    isOdd = False\n",
    "    for key, val in dict.items():\n",
    "        if val% 2 == 0:\n",
    "            count+=val\n",
    "        else:\n",
    "            count += val-1\n",
    "            isOdd = True\n",
    "    return count+1 if isOdd else count\n",
    "\n",
    "longest_palin(s)"
   ]
  },
  {
   "cell_type": "code",
   "execution_count": 4,
   "metadata": {},
   "outputs": [
    {
     "name": "stdout",
     "output_type": "stream",
     "text": [
      "1\n",
      "2\n",
      "3\n",
      "4\n",
      "\n",
      "5\n",
      "6\n",
      "7\n",
      "8\n",
      "\n"
     ]
    },
    {
     "data": {
      "text/plain": [
       "['e', 'l', 'l']"
      ]
     },
     "execution_count": 4,
     "metadata": {},
     "output_type": "execute_result"
    }
   ],
   "source": [
    "words = [\"bella\",\"label\",\"roller\"]\n",
    "# def count_of_chars(words):\n",
    "\n",
    "from collections import Counter\n",
    "\n",
    "common = Counter(words[0])\n",
    "count = 0\n",
    "\n",
    "for word in words[1:]:\n",
    "    word_counter = Counter(word)\n",
    "    \n",
    "    for char in common:\n",
    "        common[char] = min(common[char], word_counter[char])\n",
    "        count +=1\n",
    "        print(count)\n",
    "    print()\n",
    "res = []\n",
    "\n",
    "for char, freq in common.items():\n",
    "    res.extend([char] * freq)    \n",
    "res\n",
    "\n"
   ]
  },
  {
   "cell_type": "code",
   "execution_count": 2,
   "metadata": {},
   "outputs": [],
   "source": [
    "# nums = [1,2,3,3,4,4,5,6]\n",
    "# k = 3\n",
    "# def true_or_not(nums, k):\n",
    "#     res = []\n",
    "#     final = []\n",
    "#     i = 0\n",
    "#     for _ in range(k):\n",
    "#         while i < len(nums) -1:\n",
    "#             if nums[i] +1 == nums[i+1]:\n",
    "#                 res.append(nums[i])\n",
    "#                 res.append(nums[i+1])\n",
    "#                 nums.pop(i)\n",
    "#                 nums.pop(i)\n",
    "#             i+=1\n",
    "#             if len(res) == k:\n",
    "#                 final.append(res)\n",
    "#                 break\n",
    "                \n",
    "#     return final\n",
    "# true_or_not(nums, k)\n",
    "\n",
    "from collections import Counter\n",
    "\n",
    "def isNStraightHand(hand, groupSize ):\n",
    "    count = Counter(hand)\n",
    "\n",
    "    for start in sorted(count):\n",
    "      value = count[start]\n",
    "      if value > 0:\n",
    "        for i in range(start, start + groupSize):\n",
    "          count[i] -= value\n",
    "          if count[i] < 0:\n",
    "            return False\n",
    "\n",
    "    return True\n",
    "isNStraightHand()\n",
    "\n",
    "# copies code actually shameful action "
   ]
  },
  {
   "cell_type": "code",
   "execution_count": 5,
   "metadata": {},
   "outputs": [
    {
     "name": "stdout",
     "output_type": "stream",
     "text": [
      "[23, 2, 4, 6]\n",
      "no\n",
      "[2, 4]\n",
      "no\n"
     ]
    }
   ],
   "source": [
    "nums = [23,2,4,6,7]\n",
    "k = 6\n",
    "\n",
    "i= 0 \n",
    "j = len(nums)-1\n",
    "while i < j:\n",
    "    temp = nums[i:j]\n",
    "    t = sum(temp)\n",
    "    print(temp)\n",
    "    if  t % 6 or len(temp) >= 2:\n",
    "        if t//6 in temp:\n",
    "            print(\"yes\")\n",
    "        print(\"no\")\n",
    "    i+=1\n",
    "    j-=1"
   ]
  },
  {
   "cell_type": "code",
   "execution_count": 14,
   "metadata": {},
   "outputs": [
    {
     "data": {
      "text/plain": [
       "False"
      ]
     },
     "execution_count": 14,
     "metadata": {},
     "output_type": "execute_result"
    }
   ],
   "source": [
    "nums = [1,2,3]\n",
    "k = 5\n",
    "\n",
    "def checkSubarraySum(nums, k):\n",
    "    n = len(nums)\n",
    "    for i in range(n):\n",
    "        for j in range(i+1, n+1):\n",
    "            temp = nums[i:j]\n",
    "            if sum(temp) % k == 0 and len(temp) >=2:\n",
    "                if sum(temp)//k in nums:\n",
    "                    return True\n",
    "    return False\n",
    "\n",
    "checkSubarraySum(nums, k)"
   ]
  },
  {
   "cell_type": "code",
   "execution_count": null,
   "metadata": {},
   "outputs": [],
   "source": [
    "nums = []\n",
    "k = 9\n",
    "\n",
    "def checkSubarraySum(nums, k):\n",
    "    n = len(nums)\n",
    "    for i in range(n):\n",
    "        for j in range(i+1, n+1):\n",
    "            temp = nums[i:j]\n",
    "            print(temp)\n",
    "            if sum(temp) % k == 0 and len(temp) >=2:\n",
    "                if sum(temp)// k in nums:\n",
    "                    return True\n",
    "    return False\n",
    "\n",
    "checkSubarraySum(nums, k)"
   ]
  },
  {
   "cell_type": "code",
   "execution_count": null,
   "metadata": {},
   "outputs": [],
   "source": [
    "# 523 \"Leetcode problems\"\n",
    "# https://leetcode.com/problems/continuous-subarray-sum/\n",
    "def checkSubarraySum( nums, k):\n",
    "    remainder_cache = {0: -1}\n",
    "    remainder = 0\n",
    "    for i in range(len(nums)):\n",
    "        remainder += nums[i]\n",
    "        remainder %= k\n",
    "        if remainder not in remainder_cache:\n",
    "            remainder_cache[remainder] = i\n",
    "        elif i - remainder_cache[remainder] >= 2:\n",
    "            return True\n",
    "    return False"
   ]
  },
  {
   "cell_type": "code",
   "execution_count": 2,
   "metadata": {},
   "outputs": [
    {
     "name": "stdout",
     "output_type": "stream",
     "text": [
      "[1, 3]\n",
      "[1, 3, 11]\n",
      "[1, 3, 11, 17]\n",
      "[1, 3, 11, 17, 22]\n",
      "[1, 3, 11, 17, 22, 26]\n",
      "[1, 3, 11, 17, 22, 26, 35]\n"
     ]
    }
   ],
   "source": [
    "nums = [1,2,8,6,5,4,9]\n",
    "\n",
    "pre = [nums[0]]\n",
    "for i in range(1, len(nums)):\n",
    "    pre.append(pre[-1] + nums[i])\n",
    "    print(pre)"
   ]
  },
  {
   "cell_type": "code",
   "execution_count": 3,
   "metadata": {},
   "outputs": [
    {
     "data": {
      "text/plain": [
       "13"
      ]
     },
     "execution_count": 3,
     "metadata": {},
     "output_type": "execute_result"
    }
   ],
   "source": [
    "35 - 22"
   ]
  },
  {
   "cell_type": "code",
   "execution_count": null,
   "metadata": {},
   "outputs": [],
   "source": [
    "class Solution:\n",
    "    def minPatches(self, nums: List[int], n: int) -> int:\n",
    "        patches = 0\n",
    "        i = 0\n",
    "        miss = 1\n",
    "\n",
    "        while miss <= n:\n",
    "            if i < len(nums) and nums[i] <= miss:\n",
    "                miss += nums[i]\n",
    "                i += 1\n",
    "            else:\n",
    "                miss += miss\n",
    "                patches += 1\n",
    "        return patches"
   ]
  },
  {
   "cell_type": "code",
   "execution_count": 1,
   "metadata": {},
   "outputs": [
    {
     "data": {
      "text/plain": [
       "True"
      ]
     },
     "execution_count": 1,
     "metadata": {},
     "output_type": "execute_result"
    }
   ],
   "source": [
    "import math\n",
    "def judge_sqrt(c):\n",
    "    square_root = set()\n",
    "\n",
    "    for i in range(int(math.sqrt(c)+1)):\n",
    "        square_root.add(i*i)\n",
    "\n",
    "    a = 0\n",
    "    while a *a <= c:\n",
    "        target = c - a* a\n",
    "        if target in square_root:\n",
    "            return True\n",
    "        a+=1\n",
    "    return False\n",
    "\n",
    "judge_sqrt(5)"
   ]
  },
  {
   "cell_type": "code",
   "execution_count": 18,
   "metadata": {},
   "outputs": [
    {
     "name": "stdout",
     "output_type": "stream",
     "text": [
      "16\n"
     ]
    }
   ],
   "source": [
    "# nums =[1,0,1,0,1]\n",
    "goal = 2\n",
    "nums = [0, 0, 0, 1, 0, 0, 1, 0, 0, 0]\n",
    "\n",
    "\n",
    "ans ,prefix_sum = 0, 0\n",
    "freq = {0:1}\n",
    "\n",
    "for ele in nums:\n",
    "    prefix_sum += ele\n",
    "\n",
    "    if (prefix_sum - goal) in freq:\n",
    "        ans += freq[prefix_sum - goal]\n",
    "    elif prefix_sum in freq:\n",
    "        freq[prefix_sum] += 1\n",
    "    else:\n",
    "        freq[prefix_sum] = 1\n",
    "print(ans)\n"
   ]
  },
  {
   "cell_type": "code",
   "execution_count": 21,
   "metadata": {},
   "outputs": [
    {
     "data": {
      "text/plain": [
       "4"
      ]
     },
     "execution_count": 21,
     "metadata": {},
     "output_type": "execute_result"
    }
   ],
   "source": [
    "nums = [0, 0, 0, 1, 0, 0, 1, 0, 0, 0]\n",
    "k = 2\n",
    "\n",
    "curr, count = 0, 0\n",
    "l = 0\n",
    "for r in range(len(nums)):\n",
    "    curr += nums[r]\n",
    "\n",
    "    if curr > k:\n",
    "        curr -= nums[l]\n",
    "        l+=1\n",
    "\n",
    "    if curr == k:\n",
    "        count+=1\n",
    "count\n",
    "    "
   ]
  },
  {
   "cell_type": "code",
   "execution_count": 32,
   "metadata": {},
   "outputs": [
    {
     "name": "stdout",
     "output_type": "stream",
     "text": [
      "0\n"
     ]
    }
   ],
   "source": [
    "nums = [3,6,9]\n",
    "count = 0\n",
    "for i in range(len(nums)):\n",
    "    if nums[i] <= 1:\n",
    "        nums[i] += abs(nums[i] - 3)\n",
    "        count+=1 \n",
    "    if nums[i] % 3 != 0:\n",
    "        nums[i] -= abs(nums[i] - 3)\n",
    "        count+=1\n",
    "print(count)\n",
    "        "
   ]
  },
  {
   "cell_type": "code",
   "execution_count": 10,
   "metadata": {},
   "outputs": [
    {
     "name": "stdout",
     "output_type": "stream",
     "text": [
      "[True, True, False, True]\n"
     ]
    }
   ],
   "source": [
    "nums = [1,2,3,4]\n",
    "print([i%3 != 0 for i in nums])"
   ]
  },
  {
   "cell_type": "code",
   "execution_count": 45,
   "metadata": {},
   "outputs": [
    {
     "name": "stdout",
     "output_type": "stream",
     "text": [
      "[]\n",
      "[0]\n",
      "[0, 1]\n",
      "[0, 1, 1]\n",
      "[1, 1, 1]\n",
      "[1, 1, 0]\n",
      "[1, 0, 0]\n"
     ]
    }
   ],
   "source": [
    "nums = [0,1,1,1,0,0]\n",
    "l = 0\n",
    "r= 0\n",
    "while r <= len(nums):\n",
    "    if r > 3:\n",
    "        l+=1\n",
    "        \n",
    "    print(nums[l:r])\n",
    "    r+=1\n",
    "        "
   ]
  },
  {
   "cell_type": "code",
   "execution_count": 67,
   "metadata": {},
   "outputs": [],
   "source": [
    "r = 3\n",
    "while l<= len(nums) and r <= len(nums):\n",
    "    print(nums[l:r])\n",
    "    l+=1\n",
    "    r+=1\n"
   ]
  },
  {
   "cell_type": "code",
   "execution_count": 5,
   "metadata": {},
   "outputs": [
    {
     "data": {
      "text/plain": [
       "4"
      ]
     },
     "execution_count": 5,
     "metadata": {},
     "output_type": "execute_result"
    }
   ],
   "source": [
    "nums = [0,1,1,1,0,0]\n",
    "l = 0\n",
    "r = 3\n",
    "one_count = 0\n",
    "res = 0\n",
    "while l<= len(nums) and r <= len(nums):\n",
    "    ls = nums[l:r]\n",
    "    for i in range(3):\n",
    "        if ls[i] == 1:\n",
    "            one_count += 1\n",
    "        else:\n",
    "            # print(ls[i])\n",
    "            ls[i] = 1\n",
    "    res+=1\n",
    "            \n",
    "    #     print(ls[i], end = \" \")\n",
    "    # print()\n",
    "    # print(nums[l:r])\n",
    "    l+=1\n",
    "    r+=1\n",
    "res"
   ]
  },
  {
   "cell_type": "code",
   "execution_count": 3,
   "metadata": {},
   "outputs": [
    {
     "name": "stdout",
     "output_type": "stream",
     "text": [
      "4\n"
     ]
    }
   ],
   "source": [
    "nums = [0,1,1,0,0,0]\n",
    "print(nums.count(0))"
   ]
  },
  {
   "cell_type": "code",
   "execution_count": null,
   "metadata": {},
   "outputs": [],
   "source": []
  }
 ],
 "metadata": {
  "kernelspec": {
   "display_name": "Python 3",
   "language": "python",
   "name": "python3"
  },
  "language_info": {
   "codemirror_mode": {
    "name": "ipython",
    "version": 3
   },
   "file_extension": ".py",
   "mimetype": "text/x-python",
   "name": "python",
   "nbconvert_exporter": "python",
   "pygments_lexer": "ipython3",
   "version": "3.11.3"
  },
  "orig_nbformat": 4
 },
 "nbformat": 4,
 "nbformat_minor": 2
}
