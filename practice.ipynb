{
 "cells": [
  {
   "cell_type": "code",
   "execution_count": 52,
   "metadata": {},
   "outputs": [
    {
     "name": "stdout",
     "output_type": "stream",
     "text": [
      "6\n"
     ]
    }
   ],
   "source": [
    "start = 20\n",
    "end = 1159\n",
    "limit = 5\n",
    "num = \"20\"\n",
    "count = 0\n",
    "for i in range(limit+1):\n",
    "    new_num = str(i) + num\n",
    "    if start <= int(new_num) <= end:\n",
    "        count+=1\n",
    "print(count)"
   ]
  },
  {
   "cell_type": "code",
   "execution_count": 48,
   "metadata": {},
   "outputs": [
    {
     "name": "stdout",
     "output_type": "stream",
     "text": [
      "[1, 1, 4, 2, 1, 1, 0, 0]\n"
     ]
    }
   ],
   "source": [
    "temp = [73,74,75,71,69,72,76,73]\n",
    "n = len(temp)\n",
    "final = []\n",
    "for i in range(n):\n",
    "    count = 1\n",
    "    j = i+1\n",
    "    while j< n:\n",
    "        if temp[j] > temp[i]:\n",
    "            break\n",
    "        else:\n",
    "            count+=1\n",
    "            j+=1\n",
    "    if j == len(temp):\n",
    "        count = 0\n",
    "    final.append(count)\n",
    "print(final)"
   ]
  },
  {
   "cell_type": "code",
   "execution_count": 1,
   "metadata": {},
   "outputs": [
    {
     "name": "stdout",
     "output_type": "stream",
     "text": [
      "1\n",
      "2\n",
      "3\n",
      "4\n",
      "5\n",
      "6\n",
      "7\n",
      "8\n",
      "9\n",
      "10\n"
     ]
    }
   ],
   "source": [
    "def display_num(n):\n",
    "    if n==10:\n",
    "        print(\"10\")\n",
    "        return\n",
    "    print(n)\n",
    "    return display_num(n+1)\n",
    "display_num(1)"
   ]
  },
  {
   "cell_type": "code",
   "execution_count": 2,
   "metadata": {},
   "outputs": [
    {
     "data": {
      "text/plain": [
       "55"
      ]
     },
     "execution_count": 2,
     "metadata": {},
     "output_type": "execute_result"
    }
   ],
   "source": [
    "def fibo(n):\n",
    "    if n< 2:\n",
    "        return n\n",
    "    return fibo(n-1) + fibo(n-2)\n",
    "\n",
    "fibo(10)"
   ]
  },
  {
   "cell_type": "code",
   "execution_count": 3,
   "metadata": {},
   "outputs": [
    {
     "data": {
      "text/plain": [
       "-1"
      ]
     },
     "execution_count": 3,
     "metadata": {},
     "output_type": "execute_result"
    }
   ],
   "source": [
    "def search(arr, target, s,e):\n",
    "    if s> e:\n",
    "        return -1\n",
    "    mid = s + (e - s) // 2\n",
    "    \n",
    "    if arr[mid] == target:\n",
    "        return mid\n",
    "    \n",
    "    if target > arr[mid]:\n",
    "        return search(arr, target, mid + 1,e)\n",
    "    \n",
    "    return search(arr, target, s, mid - 1)\n",
    "arr = [1,2,5,7,12,22,45,65,88]\n",
    "\n",
    "search(arr,455,0,len(arr)-1)\n"
   ]
  },
  {
   "cell_type": "code",
   "execution_count": 3,
   "metadata": {},
   "outputs": [
    {
     "name": "stdout",
     "output_type": "stream",
     "text": [
      "[[2, 5, 6], [5, 6], [6]]\n"
     ]
    }
   ],
   "source": [
    "arr = [2,5,6]\n",
    "n = len(arr)\n",
    "sub_arr =[]\n",
    "for i in range(n):\n",
    "    sub = []\n",
    "    for j in range(i, n):\n",
    "        sub.append(arr[j])\n",
    "    sub_arr.append(sub)\n",
    "    \n",
    "print(sub_arr)"
   ]
  },
  {
   "cell_type": "code",
   "execution_count": 8,
   "metadata": {},
   "outputs": [
    {
     "name": "stdout",
     "output_type": "stream",
     "text": [
      "[[2], [2, 5, 6], [], [5], [5, 6], [], [6], [6], []]\n"
     ]
    }
   ],
   "source": [
    "arr = [2,5,6]\n",
    "subsets= []\n",
    "n = len(arr)\n",
    "for i in range(n):\n",
    "    subsets.append([arr[i]])\n",
    "    sub = []\n",
    "    for j in range(i,n):\n",
    "        sub.append(arr[j])\n",
    "    subsets.append(sub) \n",
    "    subsets.append([])\n",
    "    \n",
    "print(subsets)     \n",
    "\n",
    "#worst code "
   ]
  },
  {
   "cell_type": "code",
   "execution_count": 14,
   "metadata": {},
   "outputs": [
    {
     "data": {
      "text/plain": [
       "[[2, 5, 6], [2, 5], [2, 6], [2], [5, 6], [5], [6], []]"
      ]
     },
     "execution_count": 14,
     "metadata": {},
     "output_type": "execute_result"
    }
   ],
   "source": [
    "# using recursion\n",
    "arr = [2,5,6]\n",
    "\n",
    "def backTrac_subsets(arr):\n",
    "    res = []\n",
    "    \n",
    "    sunset = []\n",
    "    def subset(i):\n",
    "        if i >= len(arr):\n",
    "            res.append(sunset.copy())\n",
    "            return\n",
    "        sunset.append(arr[i])\n",
    "        subset(i+1)\n",
    "        sunset.pop()\n",
    "        subset(i+1)\n",
    "        \n",
    "    subset(0)\n",
    "    return res\n",
    "\n",
    "backTrac_subsets(arr)"
   ]
  },
  {
   "cell_type": "code",
   "execution_count": 6,
   "metadata": {},
   "outputs": [
    {
     "data": {
      "text/plain": [
       "3"
      ]
     },
     "execution_count": 6,
     "metadata": {},
     "output_type": "execute_result"
    }
   ],
   "source": [
    "string = (7,0,0,8,9,0)\n",
    "string.count(0) "
   ]
  },
  {
   "cell_type": "code",
   "execution_count": 5,
   "metadata": {},
   "outputs": [
    {
     "name": "stdout",
     "output_type": "stream",
     "text": [
      "3\n"
     ]
    }
   ],
   "source": [
    "print(abs(ord('a')-ord('d')))"
   ]
  },
  {
   "cell_type": "code",
   "execution_count": null,
   "metadata": {},
   "outputs": [],
   "source": [
    "s = \"abcd\"\n",
    "t = \"bcdf\"\n",
    "\n",
    "maxCost  = 3\n",
    "\n",
    "for i in range(len(s)):\n",
    "    x"
   ]
  },
  {
   "cell_type": "code",
   "execution_count": 21,
   "metadata": {},
   "outputs": [
    {
     "data": {
      "text/plain": [
       "12"
      ]
     },
     "execution_count": 21,
     "metadata": {},
     "output_type": "execute_result"
    }
   ],
   "source": [
    "s = \"vrykt\"\n",
    "t = \"rkge\"\n",
    "def num_text(s,t):\n",
    "    count = 0\n",
    "    start = 0\n",
    "    for i in range(len(t)):\n",
    "        if t[start:i+1] not in s:\n",
    "            count+=1\n",
    "        start+=1\n",
    "    return count        \n",
    "num_text(s,t)"
   ]
  },
  {
   "cell_type": "code",
   "execution_count": 14,
   "metadata": {},
   "outputs": [
    {
     "data": {
      "text/plain": [
       "'avs'"
      ]
     },
     "execution_count": 14,
     "metadata": {},
     "output_type": "execute_result"
    }
   ],
   "source": [
    "t = \"avsd\"\n",
    "t[:3]"
   ]
  },
  {
   "cell_type": "code",
   "execution_count": null,
   "metadata": {},
   "outputs": [],
   "source": []
  }
 ],
 "metadata": {
  "kernelspec": {
   "display_name": "Python 3",
   "language": "python",
   "name": "python3"
  },
  "language_info": {
   "codemirror_mode": {
    "name": "ipython",
    "version": 3
   },
   "file_extension": ".py",
   "mimetype": "text/x-python",
   "name": "python",
   "nbconvert_exporter": "python",
   "pygments_lexer": "ipython3",
   "version": "3.11.3"
  },
  "orig_nbformat": 4
 },
 "nbformat": 4,
 "nbformat_minor": 2
}
