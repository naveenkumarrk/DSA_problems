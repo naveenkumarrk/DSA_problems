{
 "cells": [
  {
   "cell_type": "code",
   "execution_count": 52,
   "metadata": {},
   "outputs": [
    {
     "name": "stdout",
     "output_type": "stream",
     "text": [
      "6\n"
     ]
    }
   ],
   "source": [
    "start = 20\n",
    "end = 1159\n",
    "limit = 5\n",
    "num = \"20\"\n",
    "count = 0\n",
    "for i in range(limit+1):\n",
    "    new_num = str(i) + num\n",
    "    if start <= int(new_num) <= end:\n",
    "        count+=1\n",
    "print(count)"
   ]
  },
  {
   "cell_type": "code",
   "execution_count": 48,
   "metadata": {},
   "outputs": [
    {
     "name": "stdout",
     "output_type": "stream",
     "text": [
      "[1, 1, 4, 2, 1, 1, 0, 0]\n"
     ]
    }
   ],
   "source": [
    "temp = [73,74,75,71,69,72,76,73]\n",
    "n = len(temp)\n",
    "final = []\n",
    "for i in range(n):\n",
    "    count = 1\n",
    "    j = i+1\n",
    "    while j< n:\n",
    "        if temp[j] > temp[i]:\n",
    "            break\n",
    "        else:\n",
    "            count+=1\n",
    "            j+=1\n",
    "    if j == len(temp):\n",
    "        count = 0\n",
    "    final.append(count)\n",
    "print(final)"
   ]
  },
  {
   "cell_type": "code",
   "execution_count": 1,
   "metadata": {},
   "outputs": [
    {
     "name": "stdout",
     "output_type": "stream",
     "text": [
      "1\n",
      "2\n",
      "3\n",
      "4\n",
      "5\n",
      "6\n",
      "7\n",
      "8\n",
      "9\n",
      "10\n"
     ]
    }
   ],
   "source": [
    "def display_num(n):\n",
    "    if n==10:\n",
    "        print(\"10\")\n",
    "        return\n",
    "    print(n)\n",
    "    return display_num(n+1)\n",
    "display_num(1)"
   ]
  },
  {
   "cell_type": "code",
   "execution_count": 2,
   "metadata": {},
   "outputs": [
    {
     "data": {
      "text/plain": [
       "55"
      ]
     },
     "execution_count": 2,
     "metadata": {},
     "output_type": "execute_result"
    }
   ],
   "source": [
    "def fibo(n):\n",
    "    if n< 2:\n",
    "        return n\n",
    "    return fibo(n-1) + fibo(n-2)\n",
    "\n",
    "fibo(10)"
   ]
  },
  {
   "cell_type": "code",
   "execution_count": 3,
   "metadata": {},
   "outputs": [
    {
     "data": {
      "text/plain": [
       "-1"
      ]
     },
     "execution_count": 3,
     "metadata": {},
     "output_type": "execute_result"
    }
   ],
   "source": [
    "def search(arr, target, s,e):\n",
    "    if s> e:\n",
    "        return -1\n",
    "    mid = s + (e - s) // 2\n",
    "    \n",
    "    if arr[mid] == target:\n",
    "        return mid\n",
    "    \n",
    "    if target > arr[mid]:\n",
    "        return search(arr, target, mid + 1,e)\n",
    "    \n",
    "    return search(arr, target, s, mid - 1)\n",
    "arr = [1,2,5,7,12,22,45,65,88]\n",
    "\n",
    "search(arr,455,0,len(arr)-1)\n"
   ]
  },
  {
   "cell_type": "code",
   "execution_count": null,
   "metadata": {},
   "outputs": [],
   "source": []
  }
 ],
 "metadata": {
  "kernelspec": {
   "display_name": "Python 3",
   "language": "python",
   "name": "python3"
  },
  "language_info": {
   "codemirror_mode": {
    "name": "ipython",
    "version": 3
   },
   "file_extension": ".py",
   "mimetype": "text/x-python",
   "name": "python",
   "nbconvert_exporter": "python",
   "pygments_lexer": "ipython3",
   "version": "3.11.3"
  },
  "orig_nbformat": 4
 },
 "nbformat": 4,
 "nbformat_minor": 2
}
